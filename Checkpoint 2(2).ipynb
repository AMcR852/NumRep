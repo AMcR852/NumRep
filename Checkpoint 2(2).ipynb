{
 "cells": [
  {
   "cell_type": "markdown",
   "id": "under-lemon",
   "metadata": {
    "deletable": false,
    "editable": false,
    "nbgrader": {
     "cell_type": "markdown",
     "checksum": "08e82c1caefc17ba87e5ca4a367835e0",
     "grade": false,
     "grade_id": "cell-179ae794a185f8b3",
     "locked": true,
     "schema_version": 3,
     "solution": false,
     "task": false
    }
   },
   "source": [
    "# Checkpoint 2\n",
    "### Due: Tuesday, 7 November, 2023 at 11:00am GMT\n",
    "\n",
    "### Total points: 100\n",
    "\n",
    "### Read This First\n",
    "\n",
    "Wherever you see raise NotImplementedError(), remove that line and put your code there.\n",
    "\n",
    "Put the code that produces the output for a given task in the cell indicated. You are welcome to add as many cells as you like for imports, function definitions, variables, etc.\n",
    "\n",
    "Your notebook must run correctly when executed once from start to finish. Your notebook will be graded based on how it runs, not how it looks when you submit it. To test this, go to the Kernel menu and select Restart & Run All.\n",
    "\n",
    "Once you are happy with it, clear the output by selecting Restart & Clear Output from the Kernel menu.\n",
    "\n",
    "### Your code must not take more than a minute per task.\n",
    "\n",
    "Submit through Noteable."
   ]
  },
  {
   "cell_type": "markdown",
   "id": "63bc09dd",
   "metadata": {
    "deletable": false,
    "editable": false,
    "nbgrader": {
     "cell_type": "markdown",
     "checksum": "1b6de7bf30cc19501288acb93633b2fc",
     "grade": false,
     "grade_id": "cell-b7400fc60561e8d2",
     "locked": true,
     "schema_version": 3,
     "solution": false,
     "task": false
    }
   },
   "source": [
    "# IMPORTANT \n",
    "\n",
    "In the following cell you must set the UID variable to be your student matriculation number (UUN), i.e.\n",
    "\n",
    "`\n",
    "UID=1769766\n",
    "`\n",
    "\n",
    "It must be an integer.\n",
    "\n",
    "# Do not change it later\n",
    "\n",
    "It will be used to generate the data that is different from other students\n",
    "\n"
   ]
  },
  {
   "cell_type": "code",
   "execution_count": 1,
   "id": "9cfbb9ec",
   "metadata": {},
   "outputs": [],
   "source": [
    "UID = 1838711\n",
    "\n",
    "# Checking it is integer\n",
    "assert (type(UID) is int)"
   ]
  },
  {
   "cell_type": "markdown",
   "id": "operational-maryland",
   "metadata": {
    "deletable": false,
    "editable": false,
    "nbgrader": {
     "cell_type": "markdown",
     "checksum": "6d216bd0dea4e0dcf64c443f1cfb251a",
     "grade": false,
     "grade_id": "cell-0b6698cfafd847dc",
     "locked": true,
     "schema_version": 3,
     "solution": false,
     "task": false
    }
   },
   "source": [
    "# Task 1 (20 points)\n",
    "\n",
    "The first task is to find the number of local minima of the function. \n",
    "\n",
    "The function F() is defined in such a way that it accepts inputs of any number of dimensions. I.e. F([0]), F([0,1]), F([4,2,4,6,2]).\n",
    "\n",
    "All the minima of the function are  located within -10..10 range. \n",
    "I.e. if the location of the minimum is at X=(x_1,x_2,...) then |x_i|<10 for every i.\n",
    "\n",
    "Your task is to determine the number of local minima of the function for dimensions 1, 2, 3, 4, 5. \n",
    "Your code should return the list or array of 5 integer values.\n",
    "\n",
    "You can assume that the function has no minima separated by less than 0.01.\n",
    "I.e. if X is location of the local minimum and Y is a different local minimum then ||X-Y|| > 0.01"
   ]
  },
  {
   "cell_type": "code",
   "execution_count": 32,
   "id": "false-impression",
   "metadata": {
    "deletable": false,
    "editable": false,
    "nbgrader": {
     "cell_type": "code",
     "checksum": "71ceefbe23bc6efc70ff431aaa3279c8",
     "grade": false,
     "grade_id": "cell-193fa5b6b82a2a35",
     "locked": true,
     "schema_version": 3,
     "solution": false,
     "task": false
    }
   },
   "outputs": [],
   "source": [
    "import numpy as np\n",
    "import scipy.optimize\n",
    "import scipy.linalg\n",
    "import matplotlib.pyplot as plt\n",
    "import scipy.stats\n",
    "%matplotlib inline"
   ]
  },
  {
   "cell_type": "code",
   "execution_count": 33,
   "id": "convinced-career",
   "metadata": {
    "deletable": false,
    "editable": false,
    "nbgrader": {
     "cell_type": "code",
     "checksum": "f878d08e8fc6782c73197e0b97832a21",
     "grade": false,
     "grade_id": "task1_intro",
     "locked": true,
     "schema_version": 3,
     "solution": false,
     "task": false
    }
   },
   "outputs": [
    {
     "name": "stdout",
     "output_type": "stream",
     "text": [
      "-5.061197901905441\n",
      "16.362522370244495\n",
      "329.1036916238751\n"
     ]
    }
   ],
   "source": [
    "T1_D = np.load('checkpoint2_task1.npz')['arr_0']\n",
    "dims = [1, 2, 3, 4, 5]\n",
    "import scipy.special as ssp\n",
    "\n",
    "\n",
    "def blackbox_func(p):\n",
    "    \"\"\"\n",
    "    This is is the function that you need to optimize\n",
    "    It takes vector arguments (of any length) and a returns a scalar\n",
    "    DO NOT CHANGE THE CODE INSIDE THIS FUNCTION\n",
    "    \"\"\"\n",
    "    p = np.asarray(p)\n",
    "    ndim = len(p)\n",
    "    pos = dims.index(ndim)\n",
    "    pos = np.random.default_rng(UID).permutation(5)[pos]\n",
    "    curD = T1_D[1000 * pos:1000 * (pos + 1), :ndim]\n",
    "    return -ssp.logsumexp(np.sum(-0.5 * ((p[None, :] - curD) / .3)**2, axis=1))\n",
    "\n",
    "\n",
    "# The function is defined in  1,2,3,4,5 dimensions\n",
    "print(blackbox_func([0]))\n",
    "print(blackbox_func([0, 0]))\n",
    "print(blackbox_func([0, 0, 0]))"
   ]
  },
  {
   "cell_type": "code",
   "execution_count": 38,
   "id": "d5391de4",
   "metadata": {
    "deletable": false,
    "nbgrader": {
     "cell_type": "code",
     "checksum": "ed414526b3548e42efc1993c7049d963",
     "grade": true,
     "grade_id": "task1_solution",
     "locked": false,
     "points": 0,
     "schema_version": 3,
     "solution": true,
     "task": false
    }
   },
   "outputs": [],
   "source": [
    "def find_number_of_minima():\n",
    "    \"\"\"\n",
    "    Your function should return the list or array of 5 integers \n",
    "    \"\"\"\n",
    "    minima_numbers = []\n",
    "    for dim in dims:\n",
    "        minima_number = minima_in_each_dim(dim)\n",
    "        minima_numbers.append(minima_number)\n",
    "    return minima_numbers\n",
    "\n",
    "def minima_in_each_dim(dim):\n",
    "    \n",
    "    minima_count = 0\n",
    "    minima_list = []\n",
    "    \n",
    "    for i in range(1000):\n",
    "        initial_guess = np.random.uniform(-10,10,size=dim)\n",
    "        result = scipy.optimize.minimize(blackbox_func,initial_guess,method ='L-BFGS-B', bounds=[(-10, 10)] * dim)\n",
    "        \n",
    "        if result.success:\n",
    "            unique_sol = all(np.linalg.norm(result.x - x) > 0.01 for x in minima_list)\n",
    "            if unique_sol:\n",
    "                minima_list.append(result.x)\n",
    "                minima_count += 1\n",
    "    return minima_count\n",
    "    "
   ]
  },
  {
   "cell_type": "code",
   "execution_count": 39,
   "id": "128ed18a",
   "metadata": {
    "deletable": false,
    "editable": false,
    "nbgrader": {
     "cell_type": "code",
     "checksum": "95d2e1c1849252cfa756dd35ce368ce8",
     "grade": true,
     "grade_id": "task1_test",
     "locked": true,
     "points": 0,
     "schema_version": 3,
     "solution": false,
     "task": false
    }
   },
   "outputs": [
    {
     "name": "stdout",
     "output_type": "stream",
     "text": [
      "[3, 5, 2, 3, 4]\n"
     ]
    }
   ],
   "source": [
    "my_minima = find_number_of_minima()\n",
    "assert (len(my_minima) == 5)\n",
    "print(my_minima)\n"
   ]
  },
  {
   "cell_type": "markdown",
   "id": "1f9c9452",
   "metadata": {
    "deletable": false,
    "editable": false,
    "nbgrader": {
     "cell_type": "markdown",
     "checksum": "02638ec57b25899d2ed883373c40a6ee",
     "grade": false,
     "grade_id": "cell-9ffb52dbaa1b00f3",
     "locked": true,
     "schema_version": 3,
     "solution": false,
     "task": false
    }
   },
   "source": [
    "# Task 2 (20 pts)\n",
    "\n",
    "Generate random numbers from a probability distribution that looks like a triangle and a semi-circle.\n",
    "\n",
    "The PDF f(x) is the following. Use the inverse CDF sampling method.\n",
    "\n",
    "* f(x) = 0 when x<0\n",
    "* f(x)= x/2 when 0<x<=1\n",
    "* f(x)= 1-x/2 when 1<x<=2\n",
    "* f(x)= 0 when 2<x<=3\n",
    "* f(x)= $\\pi/4 \\sin((x-3)\\cdot \\pi)$ when 3<x<=4\n",
    "* f(x)= 0 when x>4\n"
   ]
  },
  {
   "cell_type": "code",
   "execution_count": 40,
   "id": "e8b492f7",
   "metadata": {
    "deletable": false,
    "nbgrader": {
     "cell_type": "code",
     "checksum": "cf12c040320e9a3af59e478d75468501",
     "grade": true,
     "grade_id": "task2_solution",
     "locked": false,
     "points": 0,
     "schema_version": 3,
     "solution": true,
     "task": false
    }
   },
   "outputs": [
    {
     "data": {
      "text/plain": [
       "Text(0.5, 1.0, 'Plot of the PDF we want to simulate')"
      ]
     },
     "execution_count": 40,
     "metadata": {},
     "output_type": "execute_result"
    },
    {
     "data": {
      "image/png": "[encoded data removed]",
      "text/plain": [
       "<Figure size 640x480 with 1 Axes>"
      ]
     },
     "metadata": {},
     "output_type": "display_data"
    }
   ],
   "source": [
    "import random\n",
    "\n",
    "def fpdf(x):\n",
    "    \"\"\" \n",
    "    This is the PDF of the distribution we are trying to simulate\n",
    "    \"\"\"\n",
    "    \n",
    "    y = x*0\n",
    "    y[(x > 0) & (x <= 1)] = x[(x > 0) & (x <= 1)]/2\n",
    "    y[(x > 1) & (x <=2 )] = 1 - x[(x > 1) & (x <=2 )]/2\n",
    "    y[(x > 3) & (x <=4 )] = (np.pi/4)*np.sin((x[(x > 3) & (x <=4 )] - 3)*np.pi)\n",
    "    \n",
    "    return y\n",
    "\n",
    "def generate_triangles(N):\n",
    "    \"\"\" \n",
    "    Return a numpy array with N random numbers \n",
    "    following the distribution specified\n",
    "    \n",
    "    \"\"\"\n",
    "    xvalues = []\n",
    "    xs = 0\n",
    "    for i in range(N):\n",
    "        ys = random.random()\n",
    "        if ys<0.25:\n",
    "            xs = 2*np.sqrt(ys)\n",
    "        elif ys<0.5:\n",
    "            xs = 2 - 2*np.sqrt(0.25 - (ys-0.25))\n",
    "        else:\n",
    "            xs = 3 + np.arccos(4*(ys-0.5) - 1)/np.pi\n",
    "        xvalues.append(xs)\n",
    "    return xvalues\n",
    "    \n",
    "xgrid = np.linspace(0, 4, 1000)\n",
    "plt.plot(xgrid, fpdf(xgrid))\n",
    "plt.title('Plot of the PDF we want to simulate')"
   ]
  },
  {
   "cell_type": "code",
   "execution_count": 41,
   "id": "adb031e5",
   "metadata": {
    "deletable": false,
    "editable": false,
    "nbgrader": {
     "cell_type": "code",
     "checksum": "82c891a6970000651597cfe03385e1cd",
     "grade": true,
     "grade_id": "task2_test",
     "locked": true,
     "points": 0,
     "schema_version": 3,
     "solution": false,
     "task": false
    }
   },
   "outputs": [
    {
     "data": {
      "text/plain": [
       "(array([  20.,   47.,   53.,   70.,  113.,  109.,  120.,  161.,  175.,\n",
       "         183.,  214.,  223.,  266.,  276.,  340.,  320.,  359.,  359.,\n",
       "         377.,  384.,  425.,  471.,  478.,  511.,  513.,  512.,  531.,\n",
       "         561.,  582.,  624.,  589.,  583.,  624.,  686.,  690.,  702.,\n",
       "         685.,  789.,  762.,  815.,  787.,  844.,  829.,  811.,  887.,\n",
       "         910.,  933.,  958.,  959.,  949.,  948.,  966., 1013.,  953.,\n",
       "         872.,  881.,  871.,  839.,  768.,  830.,  823.,  747.,  735.,\n",
       "         727.,  699.,  681.,  653.,  616.,  645.,  595.,  599.,  559.,\n",
       "         559.,  528.,  512.,  472.,  446.,  414.,  412.,  378.,  371.,\n",
       "         355.,  337.,  314.,  319.,  275.,  276.,  257.,  232.,  225.,\n",
       "         204.,  170.,  158.,  122.,  114.,   94.,   73.,   45.,   39.,\n",
       "           8.,    0.,    0.,    0.,    0.,    0.,    0.,    0.,    0.,\n",
       "           0.,    0.,    0.,    0.,    0.,    0.,    0.,    0.,    0.,\n",
       "           0.,    0.,    0.,    0.,    0.,    0.,    0.,    0.,    0.,\n",
       "           0.,    0.,    0.,    0.,    0.,    0.,    0.,    0.,    0.,\n",
       "           0.,    0.,    0.,    0.,    0.,    0.,    0.,    0.,    0.,\n",
       "           0.,    0.,    0.,    0.,    0.,    0.,   57.,  148.,  276.,\n",
       "         347.,  428.,  528.,  617.,  704.,  774.,  898., 1004., 1058.,\n",
       "        1115., 1154., 1240., 1313., 1348., 1370., 1419., 1528., 1471.,\n",
       "        1645., 1551., 1559., 1599., 1562., 1616., 1559., 1504., 1512.,\n",
       "        1408., 1451., 1365., 1355., 1270., 1248., 1153., 1082., 1021.,\n",
       "         992.,  879.,  800.,  703.,  607.,  558.,  421.,  386.,  266.,\n",
       "         148.,   85.]),\n",
       " array([0.00751047, 0.0274593 , 0.04740812, 0.06735694, 0.08730577,\n",
       "        0.10725459, 0.12720341, 0.14715224, 0.16710106, 0.18704988,\n",
       "        0.20699871, 0.22694753, 0.24689635, 0.26684518, 0.286794  ,\n",
       "        0.30674283, 0.32669165, 0.34664047, 0.3665893 , 0.38653812,\n",
       "        0.40648694, 0.42643577, 0.44638459, 0.46633341, 0.48628224,\n",
       "        0.50623106, 0.52617988, 0.54612871, 0.56607753, 0.58602636,\n",
       "        0.60597518, 0.625924  , 0.64587283, 0.66582165, 0.68577047,\n",
       "        0.7057193 , 0.72566812, 0.74561694, 0.76556577, 0.78551459,\n",
       "        0.80546341, 0.82541224, 0.84536106, 0.86530988, 0.88525871,\n",
       "        0.90520753, 0.92515636, 0.94510518, 0.965054  , 0.98500283,\n",
       "        1.00495165, 1.02490047, 1.0448493 , 1.06479812, 1.08474694,\n",
       "        1.10469577, 1.12464459, 1.14459341, 1.16454224, 1.18449106,\n",
       "        1.20443989, 1.22438871, 1.24433753, 1.26428636, 1.28423518,\n",
       "        1.304184  , 1.32413283, 1.34408165, 1.36403047, 1.3839793 ,\n",
       "        1.40392812, 1.42387694, 1.44382577, 1.46377459, 1.48372342,\n",
       "        1.50367224, 1.52362106, 1.54356989, 1.56351871, 1.58346753,\n",
       "        1.60341636, 1.62336518, 1.643314  , 1.66326283, 1.68321165,\n",
       "        1.70316047, 1.7231093 , 1.74305812, 1.76300695, 1.78295577,\n",
       "        1.80290459, 1.82285342, 1.84280224, 1.86275106, 1.88269989,\n",
       "        1.90264871, 1.92259753, 1.94254636, 1.96249518, 1.982444  ,\n",
       "        2.00239283, 2.02234165, 2.04229048, 2.0622393 , 2.08218812,\n",
       "        2.10213695, 2.12208577, 2.14203459, 2.16198342, 2.18193224,\n",
       "        2.20188106, 2.22182989, 2.24177871, 2.26172753, 2.28167636,\n",
       "        2.30162518, 2.321574  , 2.34152283, 2.36147165, 2.38142048,\n",
       "        2.4013693 , 2.42131812, 2.44126695, 2.46121577, 2.48116459,\n",
       "        2.50111342, 2.52106224, 2.54101106, 2.56095989, 2.58090871,\n",
       "        2.60085753, 2.62080636, 2.64075518, 2.66070401, 2.68065283,\n",
       "        2.70060165, 2.72055048, 2.7404993 , 2.76044812, 2.78039695,\n",
       "        2.80034577, 2.82029459, 2.84024342, 2.86019224, 2.88014106,\n",
       "        2.90008989, 2.92003871, 2.93998754, 2.95993636, 2.97988518,\n",
       "        2.99983401, 3.01978283, 3.03973165, 3.05968048, 3.0796293 ,\n",
       "        3.09957812, 3.11952695, 3.13947577, 3.15942459, 3.17937342,\n",
       "        3.19932224, 3.21927107, 3.23921989, 3.25916871, 3.27911754,\n",
       "        3.29906636, 3.31901518, 3.33896401, 3.35891283, 3.37886165,\n",
       "        3.39881048, 3.4187593 , 3.43870812, 3.45865695, 3.47860577,\n",
       "        3.4985546 , 3.51850342, 3.53845224, 3.55840107, 3.57834989,\n",
       "        3.59829871, 3.61824754, 3.63819636, 3.65814518, 3.67809401,\n",
       "        3.69804283, 3.71799165, 3.73794048, 3.7578893 , 3.77783812,\n",
       "        3.79778695, 3.81773577, 3.8376846 , 3.85763342, 3.87758224,\n",
       "        3.89753107, 3.91747989, 3.93742871, 3.95737754, 3.97732636,\n",
       "        3.99727518]),\n",
       " <BarContainer object of 200 artists>)"
      ]
     },
     "execution_count": 41,
     "metadata": {},
     "output_type": "execute_result"
    },
    {
     "data": {
      "image/png": "[encoded data removed]",
      "text/plain": [
       "<Figure size 640x480 with 1 Axes>"
      ]
     },
     "metadata": {},
     "output_type": "display_data"
    }
   ],
   "source": [
    "# The code will be tested by this\n",
    "# the distribution of points should look like a triangle and semicircle\n",
    "task2_result = generate_triangles(100000)\n",
    "assert len(task2_result) == 100000\n",
    "plt.hist(task2_result, bins=200)\n"
   ]
  },
  {
   "cell_type": "markdown",
   "id": "61fa5064",
   "metadata": {
    "deletable": false,
    "editable": false,
    "nbgrader": {
     "cell_type": "markdown",
     "checksum": "f0dd0a62c5e5d48bcd94acc83f216ff3",
     "grade": false,
     "grade_id": "cell-08472b87802d9f84",
     "locked": true,
     "schema_version": 3,
     "solution": false,
     "task": false
    }
   },
   "source": [
    "# Task 3 (20 pts)\n",
    "\n",
    "You are conducting an experiment where your parameter of interest x is subject to this equation \n",
    "$$ \\int_0^x \\left( a + sin(b  \\ln(c + z^2) +e  z) \\right) dz = y  $$\n",
    "\n",
    "\n",
    "Your experiment provides you with the values of a, b, c, e, y and their uncertainties. \n",
    "You need to write the function that computes the value of x (5 points) and it's uncertainty (15 points)\n",
    "You can assume that 0<x<100 and a>1 and c>0.\n",
    "\n",
    "We will check the that the value of x is accurate to $0.0001$ and that uncertainty is within 10% of true uncertainty."
   ]
  },
  {
   "cell_type": "code",
   "execution_count": 42,
   "id": "944a72e0",
   "metadata": {
    "deletable": false,
    "nbgrader": {
     "cell_type": "code",
     "checksum": "2ba4f43e6fb12b5716d765b11c6adf3b",
     "grade": true,
     "grade_id": "task3_solution",
     "locked": false,
     "points": 0,
     "schema_version": 3,
     "solution": true,
     "task": false
    }
   },
   "outputs": [],
   "source": [
    "def solve_task3(a=None,\n",
    "                b=None,\n",
    "                c=None,\n",
    "                e=None,\n",
    "                y=None,\n",
    "                err_a=None,\n",
    "                err_b=None,\n",
    "                err_c=None,\n",
    "                err_e=None,\n",
    "                err_y=None):\n",
    "    \"\"\"\n",
    "    This function will return two numbers x and its uncertainty given a, b, c, y values \n",
    "    and their uncertainties\n",
    "\n",
    "    \"\"\"\n",
    "    N = 1000\n",
    "    x_estimates = np.zeros(N)\n",
    "    \n",
    "    for i in range(N):\n",
    "        x_estimates[i] = EstimateX(a,b,c,e,y,err_a,err_b,err_c,err_e,err_y) \n",
    "    \n",
    "    x_mean = np.mean(x_estimates)\n",
    "    x_stdev = np.std(x_estimates,ddof=1)\n",
    "    x_err = 1.96*(x_stdev / np.sqrt(N))\n",
    "    result = x_mean, x_err   \n",
    "    return result\n",
    "\n",
    "\n",
    "def EstimateX(a,b,c,e,y,err_a,err_b,err_c,err_e,err_y):\n",
    "\n",
    "    num_samples = 1000\n",
    "    x_samples = np.random.uniform(0,100,num_samples) \n",
    "    y_samples = np.zeros((num_samples),dtype=float)\n",
    "    a_sample = np.random.normal(a, err_a, size=num_samples)\n",
    "    b_sample = np.random.normal(b, err_b, size=num_samples)\n",
    "    c_sample = np.random.normal(c, err_c, size=num_samples)\n",
    "    e_sample = np.random.normal(e, err_e, size=num_samples)\n",
    "    y_sample = np.random.normal(y, err_y, size=num_samples)\n",
    "    \n",
    "        \n",
    "    for i in range(num_samples):\n",
    "        z_sample = np.random.uniform(0, x_samples[i])\n",
    "        integral_result = scipy.integrate.quad(func, 0, x_samples[i] ,args=(b_sample[i],c_sample[i],z_sample,e_sample[i]))\n",
    "        y_samples[i] = integral_result[0]\n",
    "        \n",
    "    x_estimate = np.mean(x_samples[np.argmin(np.abs(y_samples - y_sample))])\n",
    "    \n",
    "    return x_estimate\n",
    "\n",
    "def func(a_sample, b_sample, c_sample,z_sample, e_sample):\n",
    "    f = a_sample + np.sin(b_sample * np.log(c_sample + z_sample**2)) + e_sample * z_sample\n",
    "    return f"
   ]
  },
  {
   "cell_type": "code",
   "execution_count": 31,
   "id": "660068d5",
   "metadata": {
    "deletable": false,
    "editable": false,
    "nbgrader": {
     "cell_type": "code",
     "checksum": "1cfaab493ad1a662f9c586183778a572",
     "grade": true,
     "grade_id": "task3_test",
     "locked": true,
     "points": 0,
     "schema_version": 3,
     "solution": false,
     "task": false
    }
   },
   "outputs": [
    {
     "name": "stdout",
     "output_type": "stream",
     "text": [
      "(2.7196044506918153, 0.04778305565496068)\n"
     ]
    }
   ],
   "source": [
    "testme = solve_task3(\n",
    "    a=3, b=1, c=0.2, e=0.4, y=5, err_a=0.2, err_b=0.2, err_c=0.02, err_e=0.1, err_y=0.2\n",
    ")\n",
    "print(testme)\n",
    "assert len(testme) == 2"
   ]
  },
  {
   "cell_type": "markdown",
   "id": "3dbd1541",
   "metadata": {
    "deletable": false,
    "editable": false,
    "nbgrader": {
     "cell_type": "markdown",
     "checksum": "36060a2b6629e7915656771b6b82b28a",
     "grade": false,
     "grade_id": "cell-87bfc105ba9092d6",
     "locked": true,
     "schema_version": 3,
     "solution": false,
     "task": false
    }
   },
   "source": [
    "# Task 4 (20 pts)\n",
    "\n",
    "# Fitting a periodic model to the data. \n",
    "\n",
    "In the input data file checkpoint2_task4_file.txt we have repeated measurements from the instrument. \n",
    "The file has 3 columns. \n",
    "\n",
    "One is the time of observation, the second one is the measurement, and the third one is the uncertainty of the measurement.  We think that the measurements should show periodic changes with time, so we want to fit the dataset by a model with a periodic component:\n",
    "$$ M(t) = A \\sin(2\\pi t/T) + B \\cos(2\\pi t/T) + C t +D $$\n",
    "A, B, C, D, T are model parameters. We are interested in determining T.\n",
    "\n",
    "Assuming that we know that the period is between 0.5 and 5, determine the best period describing the data with the accuracy of better than 0.01.\n",
    "\n",
    "Your function needs to return the pair of  \n",
    "* the best period and \n",
    "* model values of your best fit model corresponding to the measurement times in the input file.\n",
    "\n",
    "Hint: Notice the model is linear with respect to parameters  A,B,C,D\n",
    "\n",
    "The grading will be done on another data file you do not have access to."
   ]
  },
  {
   "cell_type": "code",
   "execution_count": 173,
   "id": "5f86208c",
   "metadata": {
    "deletable": false,
    "nbgrader": {
     "cell_type": "code",
     "checksum": "c19e1677a74305af3a7673ceb6fe53af",
     "grade": true,
     "grade_id": "task4_solution",
     "locked": false,
     "points": 0,
     "schema_version": 3,
     "solution": true,
     "task": false
    }
   },
   "outputs": [],
   "source": [
    "def solve_period_model(filename):\n",
    "    \"\"\" \n",
    "        This function should read the data from the file\n",
    "        Fit the model and\n",
    "        return the pair of best-fit period, best-fit model value array \n",
    "    \"\"\"\n",
    "    DATA = np.loadtxt(filename)\n",
    "    t, y, ey = DATA\n",
    "    \n",
    "    T = np.arange(0.5,5.01,0.01)\n",
    "    N = len(t)\n",
    "    \n",
    "    A = np.zeros((N,4))\n",
    "    chisqvals = []\n",
    "    params = []\n",
    "    \n",
    "    for i in range(T.size):\n",
    "        A[:,0] = (np.sin(2*np.pi*t/T[i]))/ey\n",
    "        A[:,1] = (np.cos(2*np.pi*t/T[i]))/ey\n",
    "        A[:,2] = t/ey\n",
    "        A[:,3] = 1/ey\n",
    "        \n",
    "        res = scipy.linalg.lstsq(A,y)\n",
    "        param = res[0]\n",
    "        chisq = res[1]\n",
    "        model = A @ param\n",
    "        params.append(param)\n",
    "        chisqvals.append(chisq)\n",
    "        \n",
    "    # find best T and best parameters\n",
    "    minimum_val= chisqvals[0]\n",
    "    for i in range(1, len(chisqvals)): \n",
    "        if (chisqvals[i] < minimum_val):\n",
    "            minimum_val = chisqvals[i]\n",
    "            \n",
    "    best_T = T[chisqvals.index(minimum_val)]\n",
    "    best_params = params[chisqvals.index(minimum_val)]\n",
    "    \n",
    "    print(f\"BEST PARAMETERS {best_params}\")\n",
    "    bestmod = best_params[0]*np.sin(2*np.pi*t/best_T) + best_params[1]*np.cos(2*np.pi*t/best_T) + best_params[2]*t + best_params[3]\n",
    "    \n",
    "    return best_T, bestmod"
   ]
  },
  {
   "cell_type": "code",
   "execution_count": 174,
   "id": "4ed2aa2f",
   "metadata": {
    "deletable": false,
    "editable": false,
    "nbgrader": {
     "cell_type": "code",
     "checksum": "805e19b492d3ea181505870c2d7bad8c",
     "grade": true,
     "grade_id": "task4_test",
     "locked": true,
     "points": 0,
     "schema_version": 3,
     "solution": false,
     "task": false
    }
   },
   "outputs": [
    {
     "name": "stdout",
     "output_type": "stream",
     "text": [
      "BEST PARAMETERS [ 0.3192435   0.21717739 -0.01698953  1.29243327]\n",
      "BEST PERIOD 2.4000000000000017\n"
     ]
    },
    {
     "data": {
      "text/plain": [
       "[<matplotlib.lines.Line2D at 0x7f65f8255400>]"
      ]
     },
     "execution_count": 174,
     "metadata": {},
     "output_type": "execute_result"
    },
    {
     "data": {
      "image/png": "[encoded data removed]",
      "text/plain": [
       "<Figure size 640x480 with 1 Axes>"
      ]
     },
     "metadata": {},
     "output_type": "display_data"
    }
   ],
   "source": [
    "# Your code will be tested like this on the provided data \n",
    "# AND on the hidden dataset\n",
    "bestper, bestmod = solve_period_model('checkpoint2_task4_file.txt')\n",
    "T4_DATA = np.loadtxt('checkpoint2_task4_file.txt')\n",
    "plt.errorbar(T4_DATA[0], T4_DATA[1], T4_DATA[2], fmt='.')\n",
    "print('BEST PERIOD', bestper)\n",
    "plt.plot(np.sort(T4_DATA[0]), bestmod[np.argsort(T4_DATA[0])])\n"
   ]
  },
  {
   "cell_type": "markdown",
   "id": "245fc5b8",
   "metadata": {
    "deletable": false,
    "editable": false,
    "nbgrader": {
     "cell_type": "markdown",
     "checksum": "2610efd98efb2ba6f8a3eed7bde9db2f",
     "grade": false,
     "grade_id": "cell-09a8097b0427727e",
     "locked": true,
     "schema_version": 3,
     "solution": false,
     "task": false
    }
   },
   "source": [
    "# Task 5 (20 pts)\n",
    "\n",
    "You are given a dataset from the particle physics experiment. \n",
    "In that experiment the number of particles are recorded in intervals of energy.\n",
    "The dataset contains an array of those numbers and the central energy of each bin/interval. \n",
    "We think that the average number of particles in each bin could be described by this model \n",
    "\n",
    "$$R(E) = |A_1|+ 100 \\cdot \\exp\\left(A_2 \\cdot \\frac{E-70}{100}\\right) + |A_3| \\cdot  \\exp\n",
    "\\left( - \\frac{1}{2}\\frac{(E-A_4)^2}{A_5^2} \\right)$$\n",
    "\n",
    "where the first two terms are describing the background and the last term is a contribution from a decaying \n",
    "particle with the mean energy $A_4$. \n",
    "\n",
    "In the dataset you can assume that the number of particles in each bin is described by Poisson distribution with the rate described by the equation above. You can assume that measurements of number of particles in each bin are independent from each other.\n",
    "\n",
    "Your task is to model the data, estimate the energy of the particle $A_4$ using maximum likelihood approach and estimate the uncertainty of your measurement.\n",
    "\n",
    "Your function solve_task5() should return two numbers: the estimate of the energy and its uncertainty. \n",
    "If you don't know how to estimate the uncertainty, you can return np.nan instead\n",
    "\n",
    "Your function should also overplot your best model on top of the data.\n",
    "\n",
    "Hint: Be careful with exponent overflow! (The value of $A_2$ should not be too large!)\n",
    "\n",
    "We will be testing your code using the same data that you see."
   ]
  },
  {
   "cell_type": "code",
   "execution_count": 42,
   "id": "b030b7c9",
   "metadata": {
    "deletable": false,
    "editable": false,
    "nbgrader": {
     "cell_type": "code",
     "checksum": "85b22eada6f0e985457705793789e6e6",
     "grade": false,
     "grade_id": "task5_intro",
     "locked": true,
     "schema_version": 3,
     "solution": false,
     "task": false
    }
   },
   "outputs": [
    {
     "data": {
      "text/plain": [
       "Text(0, 0.5, 'Number of particles')"
      ]
     },
     "execution_count": 42,
     "metadata": {},
     "output_type": "execute_result"
    },
    {
     "data": {
      "image/png": "[encoded data removed]",
      "text/plain": [
       "<Figure size 640x480 with 1 Axes>"
      ]
     },
     "metadata": {},
     "output_type": "display_data"
    }
   ],
   "source": [
    "def task5_data_reader(filename):\n",
    "    # This simply reads the data and return the array of Energies and the number counts in each bin\n",
    "    # Use this function to read the data\n",
    "    # DO NOT CHANGE THIS\n",
    "    D = np.loadtxt('checkpoint2_task5.txt',\n",
    "                   dtype=[('i', float), ('E', np.float64), ('N', float)])\n",
    "    i = D['i'].astype(int)\n",
    "    E, N = D['E'][i == UID % 100], D['N'][i == UID % 100].astype(int)\n",
    "    return E, N\n",
    "\n",
    "T5_E, T5_N = task5_data_reader('checkpoint2_task5.txt')\n",
    "plt.plot(T5_E, T5_N, drawstyle='steps')\n",
    "plt.xlabel('Energy')\n",
    "plt.ylabel('Number of particles')"
   ]
  },
  {
   "cell_type": "code",
   "execution_count": 102,
   "id": "b1771a1a",
   "metadata": {},
   "outputs": [
    {
     "name": "stdout",
     "output_type": "stream",
     "text": [
      "Requirement already satisfied: numdifftools in /opt/conda/lib/python3.9/site-packages (0.9.41)\r\n",
      "Requirement already satisfied: numpy>=1.9 in /opt/conda/lib/python3.9/site-packages (from numdifftools) (1.23.5)\r\n",
      "Requirement already satisfied: scipy>=0.8 in /opt/conda/lib/python3.9/site-packages (from numdifftools) (1.11.2)\r\n"
     ]
    }
   ],
   "source": [
    "!pip install numdifftools"
   ]
  },
  {
   "cell_type": "code",
   "execution_count": 115,
   "id": "f49ca629",
   "metadata": {
    "deletable": false,
    "nbgrader": {
     "cell_type": "code",
     "checksum": "dce063ca3b4634b53e3e0be41fe987fc",
     "grade": true,
     "grade_id": "task5_solution",
     "locked": false,
     "points": 0,
     "schema_version": 3,
     "solution": true,
     "task": false
    }
   },
   "outputs": [],
   "source": [
    "def solve_task5(filename):\n",
    "    \"\"\"\n",
    "    Your function should return the best value of A4 and its uncertainty. \n",
    "    It also should plot the data and overplot your best model on top of the data\n",
    "    \"\"\"\n",
    "    T5_E, T5_N = task5_data_reader(filename)\n",
    "    initial_guess = [1,1,1,1,1]\n",
    "    result = scipy.optimize.minimize(like, initial_guess, args=(T5_E, T5_N))   \n",
    "    params_estimate = result.x\n",
    "    A4_estimate = params_estimate[3]\n",
    "    \n",
    "    plt.plot(T5_E, T5_N, drawstyle='steps', label='Data')\n",
    "    plt.plot(T5_E, model(T5_E, params_estimate[0],params_estimate[1] ,params_estimate[2] ,params_estimate[3] ,params_estimate[4]), label='Best Model')\n",
    "    plt.title('Best model overplotting the data')\n",
    "    plt.xlabel('Energy')\n",
    "    plt.ylabel('Number of particles')\n",
    "    plt.legend()\n",
    "    plt.show()\n",
    "    print(A4_estimate)\n",
    "    return A4_estimate, np.nan\n",
    "\n",
    "def model(E, A1, A2, A3, A4, A5):\n",
    "    return np.abs(A1) + 100*np.exp(A2*(E-70)/100) + np.abs(A3)*np.exp(-0.5*(E-A4)**2/A5**2)\n",
    "\n",
    "def like(params, T5_E, T5_N): \n",
    "    A1, A2, A3, A4, A5 = params\n",
    "    expected_rate = model(T5_E, A1, A2, A3, A4, A5)\n",
    "    P = scipy.stats.poisson(expected_rate)\n",
    "    logP = np.log(P.pmf(T5_N)).sum()\n",
    "    \n",
    "    return -logP \n",
    "        "
   ]
  },
  {
   "cell_type": "code",
   "execution_count": null,
   "id": "512b33ba",
   "metadata": {},
   "outputs": [],
   "source": [
    "\n"
   ]
  },
  {
   "cell_type": "code",
   "execution_count": 116,
   "id": "4bce7ce7",
   "metadata": {
    "deletable": false,
    "editable": false,
    "nbgrader": {
     "cell_type": "code",
     "checksum": "7bcfdaa558ff4063420bdb6293960ba7",
     "grade": true,
     "grade_id": "task5_test",
     "locked": true,
     "points": 0,
     "schema_version": 3,
     "solution": false,
     "task": false
    }
   },
   "outputs": [
    {
     "data": {
      "image/png": "[encoded data removed]",
      "text/plain": [
       "<Figure size 640x480 with 1 Axes>"
      ]
     },
     "metadata": {},
     "output_type": "display_data"
    },
    {
     "name": "stdout",
     "output_type": "stream",
     "text": [
      "1.0\n"
     ]
    }
   ],
   "source": [
    "bestval, besterr = solve_task5('checkpoint2_task5.txt')\n"
   ]
  },
  {
   "cell_type": "code",
   "execution_count": null,
   "id": "858fc8ff",
   "metadata": {},
   "outputs": [],
   "source": []
  },
  {
   "cell_type": "code",
   "execution_count": null,
   "id": "f86b51be",
   "metadata": {},
   "outputs": [],
   "source": []
  }
 ],
 "metadata": {
  "kernelspec": {
   "display_name": "Python 3 (ipykernel)",
   "language": "python",
   "name": "python3"
  },
  "language_info": {
   "codemirror_mode": {
    "name": "ipython",
    "version": 3
   },
   "file_extension": ".py",
   "mimetype": "text/x-python",
   "name": "python",
   "nbconvert_exporter": "python",
   "pygments_lexer": "ipython3",
   "version": "3.9.13"
  }
 },
 "nbformat": 4,
 "nbformat_minor": 5
}
