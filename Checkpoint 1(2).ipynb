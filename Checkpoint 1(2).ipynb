{
 "cells": [
  {
   "cell_type": "markdown",
   "id": "annoying-brunswick",
   "metadata": {
    "deletable": false,
    "editable": false,
    "nbgrader": {
     "cell_type": "markdown",
     "checksum": "54ec0dbd8e63fb45eb645c0b110b8fcd",
     "grade": false,
     "grade_id": "cell-7e6c8bd6940b47c7",
     "locked": true,
     "schema_version": 3,
     "solution": false,
     "task": false
    }
   },
   "source": [
    "# Checkpoint 1\n",
    "\n",
    "**Due: Tuesday, 17 October, 2023 at 11:00am BST**\n",
    "\n",
    "Total points: 100\n",
    "\n",
    "### Read This First\n",
    "1. The only external Python packages you may use are `matplotlib`, `numpy`, and `scipy`.\n",
    "\n",
    "1. Use the constants provided in the cells. Do not use your own constants.\n",
    "\n",
    "1. Wherever you see `raise NotImplementedError()`, remove that line and put your code there.\n",
    "\n",
    "1. Put the code that produces the output for a given task in the cell indicated. \n",
    "\n",
    "1. You are welcome to add as many cells as you like for imports, new function definitions, variables, etc.\n",
    "\n",
    "1. Your notebook must run correctly when executed once from start to finish. Your notebook will be graded based on how it runs, not how it looks when you submit it. To test this, go to the *Kernel* menu and select *Restart & Run All*.\n",
    "\n",
    "1. Once you are happy with it, clear the output by selecting *Restart & Clear Output* from the *Kernel* menu.\n",
    "\n",
    "1. Submit through Noteable."
   ]
  },
  {
   "cell_type": "code",
   "execution_count": null,
   "id": "extreme-moses",
   "metadata": {},
   "outputs": [],
   "source": [
    "from matplotlib import pyplot as plt\n",
    "%matplotlib inline\n",
    "import numpy as np\n",
    "import time\n",
    "import scipy\n",
    "from scipy import sparse\n",
    "from scipy.sparse import linalg"
   ]
  },
  {
   "cell_type": "code",
   "execution_count": null,
   "id": "faced-stylus",
   "metadata": {},
   "outputs": [],
   "source": [
    "plt.rcParams['figure.figsize'] = (10, 6)\n",
    "plt.rcParams['font.size'] = 14"
   ]
  },
  {
   "cell_type": "markdown",
   "id": "eb38b78a",
   "metadata": {
    "deletable": false,
    "editable": false,
    "nbgrader": {
     "cell_type": "markdown",
     "checksum": "1e53da61c568192131055a06eb11fe00",
     "grade": false,
     "grade_id": "cell-be0f30ea8f875921",
     "locked": true,
     "schema_version": 3,
     "solution": false,
     "task": false
    }
   },
   "source": [
    "# Problem 1 - 20 points\n",
    "\n",
    "You need to write a function that takes as input two filenames and \n",
    "* reads the x and y values from the first file \n",
    "* reads the array xnew values from the second file\n",
    "* returns the result of interpolation of x,y values on the xnew array (as a numpy array)\n",
    "* plots the x,y values as a scatterplot, and overplots the interpolated curve\n",
    "\n",
    "Your code *must* chose the best interpolation method for a given dataset. \n",
    "Use *only* interpolation methods discussed in the workshop.\n",
    "\n",
    "You are provided with two ascii files that you can test your code with:\n",
    "- checkpoint1_problem1_file1.txt\n",
    "- checkpoint1_problem1_file2.txt\n",
    "\n",
    "The evaluation will be done using similar files that we do not share with you. \n",
    "\n",
    "You should expect that the y-values in the data should be in the range  of approximately $-150..150$\n",
    "\n",
    "We expect this code should *not* run more than 60 seconds\n",
    "\n",
    "The result will be be verified to provide a mean square error (MSE) with respect to the true function of MSE < 100 , where\n",
    "\n",
    "$\n",
    "\\large\n",
    "\\begin{align}\n",
    "MSE = \\frac{1}{N} \\sum_{i=1}^{N} (y_{interp, i} - y_{true, i})^2.\n",
    "\\end{align}\n",
    "$"
   ]
  },
  {
   "cell_type": "code",
   "execution_count": null,
   "id": "0430ec16",
   "metadata": {
    "deletable": false,
    "nbgrader": {
     "cell_type": "code",
     "checksum": "f5f66cfd9cd5b35a8c29c27284eb582a",
     "grade": false,
     "grade_id": "p1-answer",
     "locked": false,
     "schema_version": 3,
     "solution": true,
     "task": false
    }
   },
   "outputs": [],
   "source": [
    "def solve_interpolator(file1, file2):\n",
    "    \"\"\"\n",
    "    This function *must* return numpy array of interpolated values\n",
    "    DO NOT MODIFY the name and arguments of the function\n",
    "    \"\"\"\n",
    "    # load data\n",
    "    x, y = np.loadtxt(file1) \n",
    "    xnew = np.loadtxt(file2)\n",
    "    ind = np.argsort(x)\n",
    "    xind = x[ind]\n",
    "    yind = y[ind]\n",
    "    xnewind = np.argsort(xnew)\n",
    "    xnew = xnew[xnewind]\n",
    "     \n",
    "    minx = int(np.ceil(min(x)))\n",
    "    maxx = int(np.floor(max(x)))\n",
    "    \n",
    "    uvs = scipy.interpolate.UnivariateSpline(xind,yind, s=100000000)\n",
    "    testinglistx = []\n",
    "    traininglistx = []\n",
    "    testinglisty = []\n",
    "    traininglisty = []\n",
    "    inds = np.arange(0,np.size(x))\n",
    "    \n",
    "    for i in range(10):\n",
    "        testingx = (x[10*(i-1):10*i])\n",
    "        testinds = np.argsort(testingx)\n",
    "        testingx = testingx[testinds]\n",
    "        testingy = (y[10*(i-1):10*i])\n",
    "        testingy = testingy[testinds]\n",
    "        testinglistx.append(testingx)\n",
    "        testinglisty.append(testingy)\n",
    "        trainingx = np.delete(x, inds[10*(i-1):10*i])\n",
    "        trainingy = np.delete(x, inds[10*(i-1):10*i])\n",
    "        traininds = np.argsort(trainingx)\n",
    "        trainingx = trainingx[traininds]   \n",
    "        trainingy = trainingy[traininds]\n",
    "        traininglistx.append(trainingx)\n",
    "        traininglisty.append(trainingy)\n",
    "    \n",
    "    maxx = int(np.floor(max(x)))\n",
    "    minx = int(np.ceil(min(x)))\n",
    "    curve_dataset_x = np.linspace(minx, maxx, maxx-minx )\n",
    "    curve_dataset_y = uvs(curve_dataset_x)\n",
    "     \n",
    "    uvs_mse_list = []\n",
    "    lin_mse_list = []\n",
    "    cs_mse_list = []\n",
    "    \n",
    "    for j in range(10):\n",
    "        \n",
    "        # univariate spline interpolation\n",
    "        uvs = scipy.interpolate.UnivariateSpline(traininglistx[i],traininglisty[i], s=100000000)\n",
    "        ynewuvs = uvs(curve_dataset_x)\n",
    "        \n",
    "        # linear interpolation\n",
    "        lin = scipy.interpolate.interp1d(traininglistx[i], traininglisty[i])\n",
    "        ynewlin = lin(curve_dataset_x)\n",
    "\n",
    "        # cubic spline interpolation\n",
    "        cs = scipy.interpolate.CubicSpline(traininglistx[i], traininglisty[i])\n",
    "        ynewcs = cs(curve_dataset_x)\n",
    "        \n",
    "        uvs_mse = mean_square_error(testinglistx[i], testinglisty[i], uvs)\n",
    "        uvs_mse_list.append(uvs_mse)\n",
    "        lin_mse = mean_square_error(testinglistx[i], testinglisty[i], lin)\n",
    "        lin_mse_list.append(lin_mse)\n",
    "        cs_mse = mean_square_error(testinglistx[i], testinglisty[i], cs)\n",
    "        cs_mse_list.append(cs_mse)\n",
    "    \n",
    "    uvs_av = sum(uvs_mse_list)/len(uvs_mse_list)\n",
    "    lin_av = sum(lin_mse_list)/len(lin_mse_list)\n",
    "    cs_av = sum(cs_mse_list)/len(cs_mse_list)\n",
    "    \n",
    "    av_list = [uvs_av, lin_av, cs_av]\n",
    "    bestmodel = min(av_list)\n",
    "    \n",
    "    # plot data and interpolated curves\n",
    "    plt.plot(curve_dataset_x, curve_dataset_y, '-', label = 'Univariate spline')\n",
    "    plt.plot(x, y, 'o', label = 'data')\n",
    "    plt.title('Interpolation Methods on Data Set')\n",
    "    plt.xlabel('x values')\n",
    "    plt.ylabel('y values')\n",
    "    plt.legend()\n",
    "    plt.show()\n",
    "    \n",
    "def mean_square_error(listx, listy, model):\n",
    "    \n",
    "    sum = 0\n",
    "    for i in range(len(listx)):\n",
    "        predictedy = model(listx[i])\n",
    "        sum += (predictedy - listy[i]) ** 2\n",
    "\n",
    "    mse = sum / len(listx)\n",
    "    \n",
    "    return mse\n",
    "     "
   ]
  },
  {
   "cell_type": "markdown",
   "id": "fitting-collaboration",
   "metadata": {
    "deletable": false,
    "editable": false,
    "nbgrader": {
     "cell_type": "markdown",
     "checksum": "4b798fc7c30758ecf511931c8e62f777",
     "grade": false,
     "grade_id": "cell-73904f7eb0cf0357",
     "locked": true,
     "schema_version": 3,
     "solution": false,
     "task": false
    }
   },
   "source": [
    "The cell below will run tests when grading."
   ]
  },
  {
   "cell_type": "code",
   "execution_count": null,
   "id": "orange-incidence",
   "metadata": {
    "deletable": false,
    "editable": false,
    "nbgrader": {
     "cell_type": "code",
     "checksum": "6ca604d1c7d03e17fda60234e46b46e3",
     "grade": true,
     "grade_id": "p1-test",
     "locked": true,
     "points": 0,
     "schema_version": 3,
     "solution": false,
     "task": false
    }
   },
   "outputs": [],
   "source": [
    "print (\"Testing, testing...\")\n",
    "# This should run and return an array and do the plot\n",
    "pred = solve_interpolator('checkpoint1_problem1_file1.txt', 'checkpoint1_problem1_file2.txt')\n",
    "\n",
    "# Below we run additional hidden tests"
   ]
  },
  {
   "cell_type": "markdown",
   "id": "appropriate-arrival",
   "metadata": {
    "deletable": false,
    "editable": false,
    "nbgrader": {
     "cell_type": "markdown",
     "checksum": "2474f27966bbe9780c8056f779a65998",
     "grade": false,
     "grade_id": "cell-6b2a06078effc715",
     "locked": true,
     "schema_version": 3,
     "solution": false,
     "task": false
    }
   },
   "source": [
    "# Problem 2 - 65 points\n",
    "\n",
    "This problem is divided into 5 tasks, worth the following point values:\n",
    "\n",
    "1. 15 points\n",
    "2. 10 points\n",
    "3. 10 points\n",
    "4. 15 points\n",
    "5. 15 points\n",
    "\n",
    "## The 1D time-independent Schrödinger equation\n",
    "\n",
    "In one dimension, the time-independent Schrödinger equation is given by\n",
    "\n",
    "$\n",
    "\\large\n",
    "\\begin{align}\n",
    "\\mathbf{H}\\ \\mathbf{\\Psi} = E\\ \\mathbf{\\Psi}\n",
    "\\end{align}\n",
    "$,\n",
    "\n",
    "where $\\mathbf{H}$ is the Hamiltonian. Here, $E$ and $\\mathbf{\\Psi}$ are the eigenvectors and eigenvalues of $\\mathbf{H}$, respectively. The lowest values of $E$ correspond to the lowest energy levels of the hydrogen atom.\n",
    "\n",
    "The theoretical values for the energy levels are given by\n",
    "\n",
    "$\n",
    "\\Large\n",
    "\\begin{align}\n",
    "e_{n} = -\\frac{c_2}{2 r_0 n^2},\n",
    "\\end{align}\n",
    "$\n",
    "\n",
    "where $n$ is the energy level (i.e., 1, 2, 3,...), $c_2$ is a constant defined below, and $r_{0}$ is the Bohr radius, given by\n",
    "\n",
    "$\n",
    "\\Large\n",
    "\\begin{align}\n",
    "r_{0} = \\frac{4 \\pi \\epsilon_{0} \\hbar^{2}}{m e^{2}}.\n",
    "\\end{align}\n",
    "$\n",
    "\n",
    "\n",
    "The Hamiltonian is expressed as\n",
    "\n",
    "$\n",
    "\\Large\n",
    "\\begin{align}\n",
    "H = -\\frac{\\hbar^2}{2m} \\nabla^2 + V(r),\n",
    "\\end{align}\n",
    "$\n",
    "\n",
    "where $V(r)$ is the electric potential energy, given by\n",
    "\n",
    "$\n",
    "\\Large\n",
    "\\begin{align}\n",
    "V(r) = -\\frac{e^{2}}{4 \\pi \\epsilon_{0} r}.\n",
    "\\end{align}\n",
    "$\n",
    "\n",
    "In matrix form, the Schrödinger equation is solved for N equally spaced values of r, such that r goes from ($r_{max}$/N) to $r_{max}$, where $r_{max} \\sim 1.5$ nm is a sensible choice. To turn the Schrödinger equation into a matrix, $\\textbf{V(r)}$ should be a diagonal matrix with the values of the potential at each r along the diagonal.\n",
    "\n",
    "For this problem, the constants for the above equations have been defined for you in the cell below. Please use these for your calculations.\n",
    "* $\\frac{\\hbar^{2}}{2m} = 0.0380998\\ nm^{2} eV$ (called `c1` below)\n",
    "* $\\frac{e^{2}}{4 \\pi \\epsilon_{0}} = 1.43996\\ nm\\ eV$ (called `c2` below)\n",
    "* $r_{0} = 0.0529177\\ nm$ (the Bohr radius, called `r0` below)\n",
    "* Planck constant $h = 6.62606896\\times10^{-34} J s$ (`h`)\n",
    "* Speed of light $c = 299792458\\ m/s$ (`c`)"
   ]
  },
  {
   "cell_type": "code",
   "execution_count": null,
   "id": "frank-davis",
   "metadata": {},
   "outputs": [],
   "source": [
    "# Constants (use these)\n",
    "c1 = 0.0380998 # nm^2 eV\n",
    "c2 = 1.43996 # nm eV\n",
    "r0 = 0.0529177 # nm\n",
    "h  = 6.62606896e-34 # J s\n",
    "c  = 299792458. # m/s\n",
    "hc = 1239.8419 # eV nm"
   ]
  },
  {
   "cell_type": "markdown",
   "id": "happy-methodology",
   "metadata": {
    "deletable": false,
    "editable": false,
    "nbgrader": {
     "cell_type": "markdown",
     "checksum": "71fd2af061f47dec0b7450c0200a77ef",
     "grade": false,
     "grade_id": "cell-268fb1e71c1478e4",
     "locked": true,
     "schema_version": 3,
     "solution": false,
     "task": false
    }
   },
   "source": [
    "# Task 1 - 15 points\n",
    "\n",
    "Write a function to calculate and return the two lowest energy values of the hydrogen atom. Your function should take one argument corresponding to the desired tolerance. The tolerance for a given energy level, n, should be calculated as\n",
    "\n",
    "$\n",
    "\\begin{align}\n",
    "tol_n = \\big{|}\\frac{E_{n,calc} - E_{n,theo}}{E_{n,theo}}\\big{|},\n",
    "\\end{align}\n",
    "$\n",
    "\n",
    "where $E_{n,calc}$ and $E_{n,theo}$ are the calculated and theoretical energies for level n. Both energy levels must be within the desired tolerance.\n",
    "\n",
    "Your function should automatically determine the minimum size of the matrix, $N$, that yields the desired results. The value of $N$ must be within a factor of 2 or the correct value, which is not given. Start at a reasonably low value, $N \\sim 100$, and increase from there. For efficiency, try to implement your function to take as few steps as possible to reach the desired tolerance.\n",
    "\n",
    "Implement your function in the cell below. Do not alter the arguments of the function. The cell after that gives an example of how the function will be called. The code will be run with a different tolerance value and will be marked based on whether it achieves the desired tolerance and if the value of N is within a factor of two of the lowest value.\n",
    "\n",
    "Your function should complete in less than 60 seconds."
   ]
  },
  {
   "cell_type": "code",
   "execution_count": null,
   "id": "individual-coverage",
   "metadata": {
    "deletable": false,
    "nbgrader": {
     "cell_type": "code",
     "checksum": "e54ae8639be062e940799563bc0d07f6",
     "grade": false,
     "grade_id": "p2t1-answer",
     "locked": false,
     "schema_version": 3,
     "solution": true,
     "task": false
    }
   },
   "outputs": [],
   "source": [
    "def calculate_energy_levels(tol):\n",
    "        \n",
    "    N = 100\n",
    "    \n",
    "    while N < 10000:\n",
    "        \n",
    "        rmax = 1.5\n",
    "        r = np.linspace(rmax/N, rmax, N)\n",
    "\n",
    "        V_values = -c2/r\n",
    "        V = scipy.sparse.diags(V_values, offsets = 0, shape=(N,N))\n",
    "\n",
    "        LP_diags = [1,-2,1]\n",
    "        LP_offsets = [-1,0,1]\n",
    "        laplacian = scipy.sparse.diags(LP_diags, LP_offsets, shape=(N,N))\n",
    "\n",
    "        H = -c1*(1/(rmax/N)**2)*laplacian + V\n",
    "        evals = linalg.eigsh(H, k=2, which = 'SA', return_eigenvectors = False)\n",
    "        E = np.sort(np.real(evals))\n",
    "        E1 = E[0]\n",
    "        E2 = E[1] \n",
    "        \n",
    "        Eth1 = -c2 / (2 * r0)\n",
    "        er1 = abs((E1 - Eth1) / Eth1)\n",
    "        \n",
    "        Eth2 = Eth1 / 4\n",
    "        er2 = abs((E2 - Eth2) / Eth2)\n",
    "        if er1 <= tol and er2 <= tol:\n",
    "            break\n",
    "        \n",
    "        N *= 2\n",
    "    print(f\"Minimum size of matrix: {N = }\")   \n",
    "    return E1, E2"
   ]
  },
  {
   "cell_type": "markdown",
   "id": "e673b34b",
   "metadata": {
    "deletable": false,
    "editable": false,
    "nbgrader": {
     "cell_type": "markdown",
     "checksum": "24d15b7df926a953030f8e7f30fa2d6f",
     "grade": false,
     "grade_id": "cell-9ac667ae7198d428",
     "locked": true,
     "schema_version": 3,
     "solution": false,
     "task": false
    }
   },
   "source": [
    "The cell below should run your code correctly. Additional tests with other tolerance values will be used for assessment."
   ]
  },
  {
   "cell_type": "code",
   "execution_count": null,
   "id": "9acbb828",
   "metadata": {
    "deletable": false,
    "editable": false,
    "nbgrader": {
     "cell_type": "code",
     "checksum": "c9e65735cf9b2dabb950bd9a2489e434",
     "grade": true,
     "grade_id": "cell-a95b85c6d5357c94",
     "locked": true,
     "points": 0,
     "schema_version": 3,
     "solution": false,
     "task": false
    }
   },
   "outputs": [],
   "source": [
    "def check_p2t1(tol):\n",
    "    t1 = time.time()\n",
    "    E1, E2 = calculate_energy_levels(tol)\n",
    "    t2 = time.time()\n",
    "    print(f\"Calculation time: {t2 - t1} seconds.\")\n",
    "\n",
    "    Eth1 = -c2 / (2 * r0)\n",
    "    er1 = abs((E1 - Eth1) / Eth1)\n",
    "    print(f\"{E1 = }, error = {er1}\")\n",
    "    assert er1 <= tol\n",
    "\n",
    "    Eth2 = Eth1 / 4\n",
    "    er2 = abs((E2 - Eth2) / Eth2)\n",
    "    print(f\"{E2 = }, error = {er2}\")\n",
    "    assert er2 <= tol\n",
    "\n",
    "my_tol = 1e-3\n",
    "check_p2t1(my_tol)"
   ]
  },
  {
   "cell_type": "markdown",
   "id": "piano-flashing",
   "metadata": {
    "deletable": false,
    "editable": false,
    "nbgrader": {
     "cell_type": "markdown",
     "checksum": "d1c3fa20f4996fce6c4f9dac09f24e15",
     "grade": false,
     "grade_id": "cell-c1ac14c82e6bbffe",
     "locked": true,
     "schema_version": 3,
     "solution": false,
     "task": false
    }
   },
   "source": [
    "## Task 2 - 10 points\n",
    "\n",
    "Now, imagine the Coulomb law has a minor modification to it, and is now given by:\n",
    "\n",
    "$\n",
    "\\Large\n",
    "\\begin{align}\n",
    "F(r) = -\\frac{e^{2}}{4 \\pi \\epsilon_{0} r^{2}} \\left( \\frac{r}{r_{0}} \\right)^{\\alpha},\n",
    "\\end{align}\n",
    "$\n",
    "\n",
    "where $\\alpha$ is some constant and $r_{0}$ is the Bohr radius, given above.\n",
    "\n",
    "The electric potential is given by:\n",
    "\n",
    "$\n",
    "\\Large\n",
    "\\begin{align}\n",
    "V(r) = \\int_{r}^{\\infty} F(r^{\\prime}) dr^{\\prime}\n",
    "\\end{align}\n",
    "$\n",
    "\n",
    "Using the constants defined previously, write a function to calculate V(r) using the modified Coulomb law by numerically solving the equation above. This function need only accept a single value of radius and not an entire array. Your function must agree with the analytical value to within $10^{-5}$ eV.\n",
    "\n",
    "Your function should go in the cell below using the template for `potential_numerical`. Do not modify the list of arguments for the function."
   ]
  },
  {
   "cell_type": "code",
   "execution_count": null,
   "id": "stunning-institute",
   "metadata": {
    "deletable": false,
    "nbgrader": {
     "cell_type": "code",
     "checksum": "80634acf1cac368949857b5e4ff7a3fa",
     "grade": false,
     "grade_id": "p2t2-answer",
     "locked": false,
     "schema_version": 3,
     "solution": true,
     "task": false
    }
   },
   "outputs": [],
   "source": [
    "def f(r, alpha):\n",
    "    return r**(alpha-2)\n",
    "\n",
    "def potential_numerical(r, alpha):\n",
    "    constant = -c2/(r0**alpha) # constant outside integral\n",
    "    sol,err = scipy.integrate.quad(f, r, np.inf, args=(alpha))\n",
    "    I = sol*constant\n",
    "    return I\n",
    "    "
   ]
  },
  {
   "cell_type": "markdown",
   "id": "female-methodology",
   "metadata": {
    "deletable": false,
    "editable": false,
    "nbgrader": {
     "cell_type": "markdown",
     "checksum": "ca36d79fd1484cd09adc79fac808735f",
     "grade": false,
     "grade_id": "cell-c74656c6ee48b39e",
     "locked": true,
     "schema_version": 3,
     "solution": false,
     "task": false
    }
   },
   "source": [
    "The cell below will test your function for $\\alpha=0.01$ for a few values of radius."
   ]
  },
  {
   "cell_type": "code",
   "execution_count": null,
   "id": "known-stations",
   "metadata": {
    "deletable": false,
    "editable": false,
    "nbgrader": {
     "cell_type": "code",
     "checksum": "3d9491728abba1922d4ad6198c4e2efc",
     "grade": true,
     "grade_id": "p2t2-test",
     "locked": true,
     "points": 0,
     "schema_version": 3,
     "solution": false,
     "task": false
    }
   },
   "outputs": [],
   "source": [
    "def potential_exact(r, alpha):\n",
    "    return c2*np.power(r,alpha-1)*np.power(r0,-alpha) / (alpha-1)\n",
    "\n",
    "my_alpha = 0.01\n",
    "for my_r in np.linspace(0.01, 1, 100):\n",
    "    diff = abs(potential_numerical(my_r, my_alpha) - potential_exact(my_r, my_alpha))\n",
    "    assert(diff <= 1e-5)"
   ]
  },
  {
   "cell_type": "markdown",
   "id": "mechanical-polls",
   "metadata": {
    "deletable": false,
    "editable": false,
    "nbgrader": {
     "cell_type": "markdown",
     "checksum": "fd0c9becfdc97f90360830ec526d5912",
     "grade": false,
     "grade_id": "cell-484fe07f737ba396",
     "locked": true,
     "schema_version": 3,
     "solution": false,
     "task": false
    }
   },
   "source": [
    "## Task 3 - 10 points\n",
    "\n",
    "Make a plot showing the difference between the modified potential with $\\alpha=0.01$ and the classical (unmodified) potential (i.e., $|V_{mod} - V|$) over the range of r values used in Task 1. Make the plot in log-space so the difference can be seen clearly. Plot separate curves for $V_{mod} > V$ and $V_{mod} < V$ and add a legend to show which is which. Include appropriate axes labels and units."
   ]
  },
  {
   "cell_type": "code",
   "execution_count": null,
   "id": "orange-robert",
   "metadata": {
    "deletable": false,
    "nbgrader": {
     "cell_type": "code",
     "checksum": "3be972904295c700a687b20b118d9931",
     "grade": false,
     "grade_id": "p2t3-plot",
     "locked": false,
     "schema_version": 3,
     "solution": true,
     "task": false
    }
   },
   "outputs": [],
   "source": [
    "from scipy import sparse\n",
    "\n",
    "alpha = 0.01\n",
    "N = 800\n",
    "rmax = 1.5\n",
    "r = np.linspace(rmax/N, rmax, N)\n",
    "V = -c2/r\n",
    "Vmod = potential_exact(r,alpha)\n",
    "absdiff = abs(Vmod - V)\n",
    "\n",
    "plt.loglog(r[0:10], absdiff[0:10], label = 'Vmod > V' )\n",
    "plt.loglog(r[9:800], absdiff[9:800], label = 'Vmod < V')\n",
    "plt.loglog(r, Vmod)\n",
    "plt.title('Absolute difference of modified vs unmodified potential [alpha = 0.01]')\n",
    "plt.xlabel('r [nm]')\n",
    "plt.ylabel('|V_mod - V|')\n",
    "plt.legend()\n",
    "plt.show()"
   ]
  },
  {
   "cell_type": "markdown",
   "id": "iraqi-sweden",
   "metadata": {
    "deletable": false,
    "editable": false,
    "nbgrader": {
     "cell_type": "markdown",
     "checksum": "4ad3836fd6b58c7f4e89f7e582ad235f",
     "grade": false,
     "grade_id": "cell-51caa9b5ace2e178",
     "locked": true,
     "schema_version": 3,
     "solution": false,
     "task": false
    }
   },
   "source": [
    "## Task 4 - 15 points\n",
    "\n",
    "Write a function to calculate the first 2 energy levels (eigenvalues of $H$) for some value of $\\alpha$ and print out the values in eV. Use a matrix size of $N = 1024$. The values must be accurate to 0.05% (i.e., $5\\times 10^{-4}$, following the definition in Task 1). Use the function template `calculate_energy_levels_modified` below for your function. It is fine to call functions you've already written. Do not alter the argument list. Your function will be tested with other values of $\\alpha$.\n",
    "\n",
    "In the cell after, plot the difference $\\Delta E$ between the two lowest energy levels as a function of $\\alpha$ for 10 values of $\\alpha$ in the range [0, 0.01]. Remember axes labels and units."
   ]
  },
  {
   "cell_type": "code",
   "execution_count": null,
   "id": "incorporate-antarctica",
   "metadata": {
    "deletable": false,
    "nbgrader": {
     "cell_type": "code",
     "checksum": "31a1966671c608da8a87314f1f7372ad",
     "grade": false,
     "grade_id": "p2t4-answer",
     "locked": false,
     "schema_version": 3,
     "solution": true,
     "task": false
    }
   },
   "outputs": [],
   "source": [
    "def calculate_energy_levels_modified(alpha):\n",
    "    \n",
    "    N = 1024\n",
    "    rmax = 1.5\n",
    "    r = np.linspace(rmax/N, rmax, N)\n",
    "    LP_diags = [1,-2,1]\n",
    "    LP_offsets = [-1,0,1]\n",
    "    laplacian = scipy.sparse.diags(LP_diags, LP_offsets, shape=(N,N))\n",
    "    \n",
    "    V_values = potential_exact(r, alpha)\n",
    "    V = scipy.sparse.diags(V_values, offsets = 0, shape=(N,N))\n",
    "    H = -c1*(1/(rmax/N)**2)*laplacian + V\n",
    "    evals = linalg.eigsh(H, k=2, which = 'SA', return_eigenvectors = False)\n",
    "    E = np.sort(np.real(evals))\n",
    "    E1 = E[0]\n",
    "    E2 = E[1] \n",
    "    \n",
    "    \n",
    "    return  E1, E2"
   ]
  },
  {
   "cell_type": "markdown",
   "id": "universal-joining",
   "metadata": {
    "deletable": false,
    "editable": false,
    "nbgrader": {
     "cell_type": "markdown",
     "checksum": "2f78f8872da427d166a6db44dcc36958",
     "grade": false,
     "grade_id": "cell-210704ac6f4c83e7",
     "locked": true,
     "schema_version": 3,
     "solution": false,
     "task": false
    }
   },
   "source": [
    "The cell below will test your function against various values of $\\alpha$."
   ]
  },
  {
   "cell_type": "code",
   "execution_count": null,
   "id": "14081245",
   "metadata": {},
   "outputs": [],
   "source": [
    "alpha = 0.01"
   ]
  },
  {
   "cell_type": "code",
   "execution_count": null,
   "id": "welsh-salvation",
   "metadata": {
    "deletable": false,
    "editable": false,
    "nbgrader": {
     "cell_type": "code",
     "checksum": "21824592cc5d09841e55c7f22df81143",
     "grade": true,
     "grade_id": "p2t4-test",
     "locked": true,
     "points": 0,
     "schema_version": 3,
     "solution": false,
     "task": false
    }
   },
   "outputs": [],
   "source": [
    "my_alpha = 0.01\n",
    "E1, E2 = calculate_energy_levels_modified(my_alpha)\n",
    "print (f\"alpha = {alpha}: {E1 = }, {E2 = }\")"
   ]
  },
  {
   "cell_type": "markdown",
   "id": "tracked-nation",
   "metadata": {
    "deletable": false,
    "editable": false,
    "nbgrader": {
     "cell_type": "markdown",
     "checksum": "a810a756c3652313db6100ada7066804",
     "grade": false,
     "grade_id": "cell-936bf792ceef031b",
     "locked": true,
     "schema_version": 3,
     "solution": false,
     "task": false
    }
   },
   "source": [
    "In the cell below, make the plot of $\\Delta E$ vs. $\\alpha$ as instructed above."
   ]
  },
  {
   "cell_type": "code",
   "execution_count": null,
   "id": "secure-breakdown",
   "metadata": {
    "deletable": false,
    "nbgrader": {
     "cell_type": "code",
     "checksum": "c2d4979aac04e671560876fb34cadc25",
     "grade": false,
     "grade_id": "p2t4-plot",
     "locked": false,
     "schema_version": 3,
     "solution": true,
     "task": false
    }
   },
   "outputs": [],
   "source": [
    "alpha = np.linspace(0, 0.01, 10)\n",
    "deltaElist = []\n",
    "\n",
    "for i in range(10):\n",
    "    E1, E2 = calculate_energy_levels_modified(alpha[i])\n",
    "    deltaE = E2 - E1\n",
    "    deltaElist.append(deltaE)\n",
    "    "
   ]
  },
  {
   "cell_type": "code",
   "execution_count": null,
   "id": "9261ed47",
   "metadata": {},
   "outputs": [],
   "source": [
    "plt.plot(deltaElist, alpha)\n",
    "plt.title('$\\Delta$E as a function of alpha')\n",
    "plt.xlabel('$\\Delta$E [nm eV]')\n",
    "plt.ylabel('alpha [dimensionless]')\n",
    "plt.show()"
   ]
  },
  {
   "cell_type": "markdown",
   "id": "white-newport",
   "metadata": {
    "deletable": false,
    "editable": false,
    "nbgrader": {
     "cell_type": "markdown",
     "checksum": "d06ded6f7c3f7fc06e3e927ca801e949",
     "grade": false,
     "grade_id": "cell-5cb872bbd2dc8c06",
     "locked": true,
     "schema_version": 3,
     "solution": false,
     "task": false
    }
   },
   "source": [
    "## Task 5 - 15 points\n",
    "\n",
    "The transition between the 1st and 2nd states is known as the Lyman-$\\alpha$ transition. The photon emitted by this transition will have a wavelength, $\\lambda$, given by\n",
    "\n",
    "$\n",
    "\\Large\n",
    "\\begin{align}\n",
    "\\lambda = \\frac{hc}{\\Delta E}.\n",
    "\\end{align}\n",
    "$\n",
    "\n",
    "Imagine the wavelength of this transition has been measured to some value, $\\lambda$. Using the template below, write a function to compute the value of $\\alpha$ for a given value of $\\lambda$. Assume that $\\alpha$ is in the range [0, 0.1]. Your function will be tested with a random value of $\\lambda$. Your function must complete in 60 seconds or less and return a value that is accurate to within 1% of the correct answer. Do not alter the list of arguments in the function, `calculate_alpha`."
   ]
  },
  {
   "cell_type": "code",
   "execution_count": null,
   "id": "d7a1eaee",
   "metadata": {},
   "outputs": [],
   "source": [
    "# Constants (use these)\n",
    "c1 = 0.0380998 # nm^2 eV\n",
    "c2 = 1.43996 # nm eV\n",
    "r0 = 0.0529177 # nm\n",
    "h  = 6.62606896e-34 # J s\n",
    "c  = 299792458. # m/s\n",
    "hc = 1239.8419 # eV nm"
   ]
  },
  {
   "cell_type": "code",
   "execution_count": null,
   "id": "inappropriate-depth",
   "metadata": {
    "deletable": false,
    "nbgrader": {
     "cell_type": "code",
     "checksum": "48823ff600942e92701ad4c18f38f0e4",
     "grade": false,
     "grade_id": "p2t5-answer",
     "locked": false,
     "schema_version": 3,
     "solution": true,
     "task": false
    }
   },
   "outputs": [],
   "source": [
    "def calculate_alpha(my_lambda):\n",
    "    \n",
    "    my_deltaE = h*c/my_lambda\n",
    "    tol = 0.001\n",
    "    alpha = 0.05\n",
    "    \n",
    "    for i in range(100):\n",
    "        \n",
    "        E1, E2 = calculate_energy_levels_modified(alpha)\n",
    "        deltaEcalc = E2 - E1\n",
    "        diff = abs(my_deltaE - deltaEcalc)\n",
    "        if diff <= tol:\n",
    "            break\n",
    "        if deltaEcalc < my_deltaE:\n",
    "            alpha = alpha + alpha/2\n",
    "        else:\n",
    "            alpha = alpha - alpha/2\n",
    "    \n",
    "    return alpha"
   ]
  },
  {
   "cell_type": "markdown",
   "id": "several-observation",
   "metadata": {
    "deletable": false,
    "editable": false,
    "nbgrader": {
     "cell_type": "markdown",
     "checksum": "0489b5ffefeca9df0a13d380f121ca35",
     "grade": false,
     "grade_id": "cell-12251fe279fb41cb",
     "locked": true,
     "schema_version": 3,
     "solution": false,
     "task": false
    }
   },
   "source": [
    "The cell below will run your function against additional values."
   ]
  },
  {
   "cell_type": "code",
   "execution_count": null,
   "id": "curious-limit",
   "metadata": {
    "deletable": false,
    "editable": false,
    "nbgrader": {
     "cell_type": "code",
     "checksum": "e94b091739a61114e5c36d312a2d7cdd",
     "grade": true,
     "grade_id": "p2t5-test",
     "locked": true,
     "points": 0,
     "schema_version": 3,
     "solution": false,
     "task": false
    }
   },
   "outputs": [],
   "source": [
    "my_lambda = 118.22870362\n",
    "my_alpha = calculate_alpha(my_lambda)\n",
    "print (f\"{my_lambda = }, {my_alpha = }.\")"
   ]
  },
  {
   "cell_type": "markdown",
   "id": "c9a7673c",
   "metadata": {
    "deletable": false,
    "editable": false,
    "nbgrader": {
     "cell_type": "markdown",
     "checksum": "2d935fec679378cbdf143f56e9d0eff3",
     "grade": false,
     "grade_id": "cell-fc118bb49de9ec53",
     "locked": true,
     "schema_version": 3,
     "solution": false,
     "task": false
    }
   },
   "source": [
    "# Problem 3 - 15 points\n",
    "\n",
    "The equation for an ellipsoid is given by:\n",
    "\n",
    "$\n",
    "\\begin{align}\n",
    "\\large\n",
    "\\frac{x^2}{a^2} + \\frac{y^2}{b^2} + \\frac{z^2}{c^2} = 1,\n",
    "\\end{align}\n",
    "$\n",
    "\n",
    "where $a$, $b$, and $c$ are the lengths of the semi-axes with $a > b > c$. Here, $x$, $y$, and $z$ are arbitrarily oriented 3D Cartesian coordinates.\n",
    "\n",
    "Included with the checkpoint is a file, called **ellipse.txt**, containing coordinates of points associated with a 3D multivariate normal distribution. The lengths of the semi-axes correspond to the standard deviations of the distributions transformed into the principal axes. Using the template below for `calculate_ellipse_size`, write a function to read in the data from the file and output $a$, $b$, and $c$ such that $a > b > c$. Your code will be tested with a different file of the same format. The values must be within 1% of the correct answers. Do not alter the argument list of the function."
   ]
  },
  {
   "cell_type": "code",
   "execution_count": null,
   "id": "3506fdb5",
   "metadata": {
    "deletable": false,
    "nbgrader": {
     "cell_type": "code",
     "checksum": "a077f217fc73c6bc0eb2f3eef80e47cd",
     "grade": false,
     "grade_id": "p3-answer",
     "locked": false,
     "schema_version": 3,
     "solution": true,
     "task": false
    }
   },
   "outputs": [],
   "source": [
    "def calculate_ellipse_size(filename):\n",
    "    \n",
    "    x = np.loadtxt(filename, usecols = 0)\n",
    "    y = np.loadtxt(filename, usecols = 1)\n",
    "    z = np.loadtxt(filename, usecols = 2)\n",
    "\n",
    "    p = np.array([x,y,z])\n",
    "    cov = np.cov(p)\n",
    "    \n",
    "    l, v = scipy.linalg.eig(cov)\n",
    "    pnew = v.T @ p\n",
    "    \n",
    "    evals = pnew.std(axis=1)\n",
    "    evals = np.sort(evals)\n",
    "    evals = evals[::-1]\n",
    "    a = evals[0]\n",
    "    b = evals[1]\n",
    "    c = evals[2]\n",
    "    \n",
    "    return a, b, c"
   ]
  },
  {
   "cell_type": "code",
   "execution_count": null,
   "id": "998dfaab",
   "metadata": {
    "deletable": false,
    "editable": false,
    "nbgrader": {
     "cell_type": "code",
     "checksum": "aea78c50e676c374d551385b5e687d55",
     "grade": true,
     "grade_id": "p3-test",
     "locked": true,
     "points": 0,
     "schema_version": 3,
     "solution": false,
     "task": false
    }
   },
   "outputs": [],
   "source": [
    "a, b, c = calculate_ellipse_size(\"ellipse.txt\")\n",
    "print (f\"{a = }, {b = }, {c = }.\")"
   ]
  }
 ],
 "metadata": {
  "kernelspec": {
   "display_name": "Python 3 (ipykernel)",
   "language": "python",
   "name": "python3"
  },
  "language_info": {
   "codemirror_mode": {
    "name": "ipython",
    "version": 3
   },
   "file_extension": ".py",
   "mimetype": "text/x-python",
   "name": "python",
   "nbconvert_exporter": "python",
   "pygments_lexer": "ipython3",
   "version": "3.9.13"
  }
 },
 "nbformat": 4,
 "nbformat_minor": 5
}
